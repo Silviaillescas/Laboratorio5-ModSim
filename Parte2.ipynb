{
 "cells": [
  {
   "cell_type": "markdown",
   "id": "95e14270",
   "metadata": {},
   "source": [
    "## Laboratorio 5\n",
    "### Michelle Mejia y Silvia Illescas"
   ]
  },
  {
   "cell_type": "markdown",
   "id": "b68cc035",
   "metadata": {},
   "source": [
    "## Parte Teórica\n",
    "\n",
    "Usted es un analista de infraestructura crítica encargado de evaluar dos sistemas:  \n",
    "- La **red nacional de aeropuertos** (que se aproxima a un modelo libre de escala)  \n",
    "- La **red de alcantarillado de una ciudad** (que se aproxima a un retículo o red de mundo pequeño con pocas conexiones largas).  \n",
    "\n",
    "¿Cuál de las dos redes es más vulnerable a **fallos aleatorios** (ej. una tubería se rompe al azar o un aeropuerto pequeño cierra por mal tiempo)? ¿Y cuál es más vulnerable a **ataques dirigidos** (ej. un ataque coordinado a los 5 aeropuertos más grandes o a las 5 estaciones de bombeo principales)? Justifique su respuesta basándose en la distribución de grado y la presencia de hubs en cada modelo.\n",
    "\n",
    "- **Vulnerabilidad a fallos aleatorios:**  \n",
    "  La **red de alcantarillado** es más robusta frente a fallos aleatorios. En este modelo de red de mundo pequeño, las conexiones entre nodos son principalmente locales y las conexiones largas son pocas. Si una tubería se rompe al azar, el fallo no afectará severamente a toda la red, ya que la mayoría de los nodos (tuberías) están conectados de manera local y no dependen de una sola ruta. \n",
    "\n",
    "  En cambio, en la **red de aeropuertos**, que sigue un modelo libre de escala, la mayoría de los nodos tienen pocos enlaces, pero algunos hubs (aeropuertos grandes) tienen una cantidad extremadamente alta de conexiones. Aunque los aeropuertos pequeños pueden fallar sin causar mucho daño, si un aeropuerto grande (hub) falla, puede generar un gran colapso debido a la dependencia de la red de estos nodos muy conectados. Sin embargo, los fallos aleatorios de los aeropuertos pequeños no tendrán un gran impacto.\n",
    "\n",
    "- **Vulnerabilidad a ataques dirigidos:**  \n",
    "  La **red de aeropuertos** es más vulnerable a ataques dirigidos. Los hubs (aeropuertos grandes) son puntos críticos en la red. Si un atacante desactiva los 5 aeropuertos más grandes, podría aislar grandes partes de la red y afectar gravemente el tráfico aéreo. La red libre de escala tiene una alta concentración de conexiones en unos pocos hubs, lo que la hace susceptible a ataques dirigidos a estos hubs.\n",
    "\n",
    "  Por otro lado, la **red de alcantarillado** es menos vulnerable a ataques dirigidos, porque los nodos son más distribuidos y menos dependientes de unos pocos nodos con muchas conexiones. Un ataque dirigido a unas pocas estaciones de bombeo podría causar problemas locales, pero no necesariamente colapsaría toda la red debido a la estructura redundante y localmente conectada del retículo.\n",
    "\n",
    "## 2. Red que No Cumple con el Modelo Barabási-Albert\n",
    "\n",
    "El modelo de Barabási-Albert asume dos condiciones clave:  \n",
    "1. La red está en constante crecimiento  \n",
    "2. Los nuevos nodos se conectan con preferencia a los nodos más conectados  \n",
    "\n",
    "Describa un ejemplo de una red del mundo real donde al menos una de estas dos suposiciones no se cumpla. Explique por qué el modelo Barabási-Albert sería una representación inadecuada para esa red.\n",
    "\n",
    "Un ejemplo donde las suposiciones del modelo Barabási-Albert no se cumplen podría ser una **red de contactos en una conferencia académica**. En este caso, los nodos representan a los participantes de la conferencia, y las conexiones representan interacciones durante la conferencia. La red no crece indefinidamente porque la conferencia tiene una duración limitada y un número fijo de asistentes. Además, los nuevos participantes no necesariamente se conectan preferentemente con los asistentes más populares o con más conexiones. Las interacciones suelen ser más aleatorias, dependiendo de los intereses compartidos y la proximidad geográfica en los eventos, no del número de conexiones previas de los participantes.\n",
    "\n",
    "El modelo de Barabási-Albert sería inapropiado para este escenario porque asume un crecimiento continuo de la red y una preferencia por los nodos más conectados, lo cual no ocurre en una conferencia limitada en tiempo y espacio.\n",
    "\n",
    "## 3. Comportamiento de la Red en el Modelo Watts-Strogatz\n",
    "\n",
    "En el modelo de Watts-Strogatz, el parámetro de recableado **p** es la clave para sintonizar la red entre orden y aleatoriedad. Describa qué sucede con el **coeficiente de agrupamiento promedio** y la **longitud de camino promedio** de la red a medida que **p** varía desde 0 hasta 1. ¿Por qué un valor de **p** muy pequeño (ej. 0.01) es tan efectivo para reducir drásticamente la longitud del camino promedio sin destruir el agrupamiento local?\n",
    "\n",
    "- **Coeficiente de agrupamiento promedio:**  \n",
    "  A medida que **p** aumenta, el coeficiente de agrupamiento promedio disminuye. Al principio, cuando **p = 0**, la red es completamente ordenada (lattice) y tiene un alto coeficiente de agrupamiento, ya que los nodos están altamente conectados a sus vecinos inmediatos. Cuando **p** aumenta hacia 1, las conexiones entre nodos se hacen más aleatorias, lo que reduce el agrupamiento.\n",
    "\n",
    "- **Longitud de camino promedio:**  \n",
    "  A medida que **p** aumenta, la longitud de camino promedio disminuye. Cuando **p = 0**, la red tiene una estructura ordenada, por lo que la longitud de camino promedio es relativamente grande porque los nodos solo están conectados a sus vecinos cercanos. A medida que **p** se incrementa, se introducen conexiones a nodos distantes, lo que reduce significativamente la longitud de los caminos promedio.\n",
    "\n",
    "- **Efectividad de **p** pequeño (ej. 0.01):**  \n",
    "  Un valor de **p** muy pequeño (0.01) es efectivo porque introduce solo unas pocas conexiones aleatorias entre nodos. Estas conexiones permiten que los nodos distantes estén más conectados sin destruir la estructura local de agrupamiento. Esto reduce la longitud de camino promedio de manera significativa, pero mantiene intacto el alto coeficiente de agrupamiento local, lo que mejora la eficiencia global de la red sin perder las propiedades de la red de mundo pequeño.\n",
    "\n",
    "## 4. Red Social como Facebook o Instagram\n",
    "\n",
    "Piense en la **red de amistades** dentro de una red social como Facebook o Instagram. Esta red muestra características de varios modelos: tiene **comunidades muy unidas** (grupos de la universidad, compañeros de trabajo), lo que sugiere un **modelo de mundo pequeño**. Al mismo tiempo, tiene \"**influencers**\" o **celebridades** con millones de seguidores, lo que es característico de una **red libre de escala**. ¿Cómo podría un modelo de simulación capturar ambas propiedades? Proponga una **regla generativa conceptual** (no necesita escribir código) para construir una red que sea a la vez comunitaria y tenga hubs.\n",
    "\n",
    "Para capturar ambas propiedades en un modelo de red, podemos combinar características de los modelos de **mundo pequeño** y **libre de escala** mediante una **regla generativa mixta**:\n",
    "\n",
    "1. **Comunidad (Red de mundo pequeño):** Los nuevos nodos se conectan preferentemente con nodos cercanos o con nodos dentro de la misma comunidad. Esto asegura que los grupos de amigos (o comunidades) se formen de manera natural, lo que refleja las características de un modelo de mundo pequeño con alta densidad local.\n",
    "\n",
    "2. **Hubs (Red libre de escala):** Los nuevos nodos tienen una probabilidad de conectarse con nodos altamente conectados (influencers o celebridades). Esta preferencia por conectarse con nodos con más conexiones asegura la formación de hubs, lo que caracteriza a las redes libres de escala.\n",
    "\n",
    "### Resumen:\n",
    "La regla generativa sería:\n",
    "- Los nuevos nodos se conectan inicialmente a nodos dentro de su misma comunidad o con pocos enlaces.\n",
    "- Posteriormente, tienen una probabilidad de conectarse a nodos de alto grado (influencers) para fomentar la creación de hubs.\n",
    "\n",
    "Este enfoque híbrido permite construir una red que sea tanto **comunitaria** como **con hubs** prominentes, similar a las redes sociales como Facebook o Instagram.\n"
   ]
  }
 ],
 "metadata": {
  "language_info": {
   "name": "python"
  }
 },
 "nbformat": 4,
 "nbformat_minor": 5
}
